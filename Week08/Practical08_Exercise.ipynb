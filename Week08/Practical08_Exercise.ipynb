{
  "cells": [
    {
      "cell_type": "code",
      "execution_count": 18,
      "metadata": {
        "id": "6BGh2em9KSxm"
      },
      "outputs": [],
      "source": [
        "! git clone https://github.com/dGluc2lyaXVz/RUNFNDA3OF9QcmFjdGljYWxzX3N0YWdpbmc >> /dev/null 2>&1  \n",
        "! python3 -m pip install gym==0.26.0 otter-grader==3.3.0 Box2D pygame >> /dev/null 2>&1  "
      ]
    },
    {
      "cell_type": "code",
      "execution_count": 19,
      "metadata": {
        "colab": {
          "base_uri": "https://localhost:8080/"
        },
        "id": "id6sO9_5K8fy",
        "outputId": "b79ed0ff-ec95-4270-9e57-c07edc02f06c"
      },
      "outputs": [
        {
          "name": "stdout",
          "output_type": "stream",
          "text": [
            "Mounted at /content/gdrive\n"
          ]
        }
      ],
      "source": [
        "# mount your Google Drive and change the path to where you are storing the scripts and data\n",
        "from google.colab import drive\n",
        "drive.mount('/content/gdrive',force_remount=True)\n",
        "import sys, os\n",
        "import os\n",
        "directory = 'gdrive/MyDrive/4078' # Change this according to your path\n",
        "sys.path.append(directory)\n"
      ]
    },
    {
      "cell_type": "markdown",
      "metadata": {
        "cell_id": "8a28a11b-767e-4eac-b843-88772932ed25",
        "deepnote_cell_height": 130,
        "deepnote_cell_type": "markdown",
        "id": "1xOoHdo4KKSV"
      },
      "source": [
        "# Deep RL - DQN with Target Network\n",
        "\n",
        "### Import required dependencies"
      ]
    },
    {
      "cell_type": "code",
      "execution_count": 20,
      "metadata": {
        "cell_id": "00001-75989021-f35f-4440-81b6-5bdec281cb13",
        "deepnote_cell_height": 670,
        "deepnote_cell_type": "code",
        "deepnote_to_be_reexecuted": false,
        "execution_millis": 1761,
        "execution_start": 1663344773698,
        "id": "gcv3IwcCKKSZ",
        "source_hash": "d7a063f3"
      },
      "outputs": [],
      "source": [
        "from Practical08_Support.render import *\n",
        "import random\n",
        "\n",
        "import gym\n",
        "import math\n",
        "import random\n",
        "import numpy as np\n",
        "from collections import namedtuple\n",
        "import copy\n",
        "from itertools import count\n",
        "from tqdm import tqdm\n",
        "\n",
        "import torch\n",
        "import torch.nn as nn\n",
        "import torch.optim as optim\n",
        "import torch.autograd as autograd \n",
        "\n",
        "\n",
        "import matplotlib.pyplot as plt\n",
        "from matplotlib import animation\n",
        "\n",
        "import io\n",
        "import base64\n",
        "from IPython.display import HTML\n",
        "\n",
        "# if gpu is to be used\n",
        "device = torch.device(\"cuda\" if torch.cuda.is_available() else \"cpu\")\n",
        "sample_agent = 'Practical08_Support/DQNagent_sample.pt'\n",
        "\n",
        "def set_seed(env, seed):\n",
        "    torch.manual_seed(seed)\n",
        "    np.random.seed(seed)\n",
        "    random.seed(seed)\n",
        "    env.reset(seed = seed)"
      ]
    },
    {
      "cell_type": "markdown",
      "metadata": {
        "cell_id": "00002-9b57d5d5-ef1c-47ef-9175-31babef81036",
        "deepnote_cell_height": 1093.800048828125,
        "deepnote_cell_type": "markdown",
        "id": "JPZXi34PKKSd"
      },
      "source": [
        "# 2. DQN Algorithm with Target Network\n",
        "\n",
        "In this notebook we will extend DQN by adding a target network. This revised version of the DQN algorithm is shown below\n",
        "\n",
        "![DQN_algorithm.png](https://i.postimg.cc/15tMBhjG/DQN-algorithm.png)\n",
        "\n",
        "### The main changes are:\n",
        "\n",
        "- We have extended the Agent class' attributes to include 2 DQN networks instead of one (one target and one policy network)\n",
        "\n",
        "- We have change the method ``get_next_q(.)`` so the q-values are computed using the target network instead of the policy network\n",
        "\n",
        "- We have added a new method called ``transfer_parameters``(.). This method replaces the parameters of the target network with those of the policy network \n",
        "\n",
        "- We have modified the main loop to include instructions that call ``transfer_parameters``(.) after a predefined number of episodes\n",
        "\n",
        "Compared to DQN, DQN with a target network is more stable and robust, since it updates the network parameters at a lower frequency. It helps with the \"catastrophic forgetting\" problem that you may have observed in DQN.\n",
        "\n",
        "## Replay Buffer\n",
        "\n",
        "We use the same Replay Buffer implementation\n",
        "\n",
        "**Note**: This implementation of the ReplayMemory class was taken from [***Pytorch DQN tutorial***](https://pytorch.org/tutorials/intermediate/reinforcement_q_learning.html)"
      ]
    },
    {
      "cell_type": "code",
      "execution_count": 21,
      "metadata": {
        "cell_id": "00003-fa711751-10a5-48c7-aae4-7a0483ec29c4",
        "deepnote_cell_height": 706,
        "deepnote_cell_type": "code",
        "deepnote_to_be_reexecuted": false,
        "execution_millis": 1,
        "execution_start": 1663344775464,
        "id": "H11YihXHKKSg",
        "source_hash": "33d309c4"
      },
      "outputs": [],
      "source": [
        "# This tuple represents one observation in our environment\n",
        "Transition = namedtuple('Transition',\n",
        "                        ('state', 'action', 'next_state', 'reward', 'done'))\n",
        "\n",
        "class ReplayMemory:\n",
        "    \"\"\"\n",
        "    A cyclic buffer of bounded size (capacity) that holds the transitions \n",
        "    observed recently. \n",
        "    \n",
        "    It also implements a sample() method for selecting a random \n",
        "    batch of transitions for training.\n",
        "    \"\"\"\n",
        "    def __init__(self, capacity):\n",
        "        self.capacity = capacity\n",
        "        self.memory = []\n",
        "        self.position = 0\n",
        "\n",
        "    def push(self, *args):\n",
        "        \"\"\"Saves a transition.\"\"\"\n",
        "        if len(self.memory) < self.capacity:\n",
        "            self.memory.append(None)\n",
        "        self.memory[self.position] = Transition(*args)\n",
        "        self.position = (self.position + 1) % self.capacity\n",
        "\n",
        "    def sample(self, batch_size):\n",
        "        \"\"\"Returns a minibatch of `Transition` randomly\n",
        "        Args:\n",
        "            batch_size (int): Size of mini-bach\n",
        "        Returns:\n",
        "            List[Transition]: Minibatch of `Transition`\n",
        "        \"\"\"\n",
        "        return random.sample(self.memory, batch_size)\n",
        "\n",
        "    def __len__(self):\n",
        "        \"\"\"Returns the length \"\"\"\n",
        "        return len(self.memory)"
      ]
    },
    {
      "cell_type": "markdown",
      "metadata": {
        "cell_id": "00004-afa5d02a-174d-4a0d-9587-4559412070d6",
        "deepnote_cell_height": 130.8000030517578,
        "deepnote_cell_type": "markdown",
        "id": "BiW8zADRKKSj"
      },
      "source": [
        "## DQN Network\n",
        "\n",
        "Let us now define the Multi Layer Perceptron network that will be used as the function approximator for the action-value function (q-function)"
      ]
    },
    {
      "cell_type": "code",
      "execution_count": 22,
      "metadata": {
        "cell_id": "00005-ddce5728-2121-4c5a-97be-3d781ee6047e",
        "deepnote_cell_height": 526,
        "deepnote_cell_type": "code",
        "deepnote_to_be_reexecuted": false,
        "execution_millis": 2,
        "execution_start": 1663344775470,
        "id": "AIfpc-5PKKSk",
        "source_hash": "50cc9d96"
      },
      "outputs": [],
      "source": [
        "class DQN(nn.Module):\n",
        "    \"\"\"DQN Network\n",
        "        Args:\n",
        "        input_dim (int): `state` dimension.\n",
        "        output_dim (int): Number of actions.\n",
        "        hidden_dim (int): Hidden dimension in fully connected layer\n",
        "    \"\"\"\n",
        "    def __init__(self, num_inputs=8, num_actions=4, hidden_dim_1=32, hidden_dim_2=32):\n",
        "        super(DQN, self).__init__()\n",
        "        \n",
        "        self.layers = nn.Sequential(\n",
        "            nn.Linear(num_inputs, hidden_dim_1),\n",
        "            nn.ReLU(),\n",
        "            nn.Linear(hidden_dim_1, hidden_dim_2),\n",
        "            nn.ReLU(),\n",
        "            nn.Linear(hidden_dim_2, num_actions)\n",
        "        )\n",
        "        \n",
        "    def forward(self, x):\n",
        "        \"\"\"Returns a Q_value\n",
        "        Args:\n",
        "            x (torch.Tensor): `State` 2-D tensor of shape (n, num_inputs)\n",
        "        Returns:\n",
        "            torch.Tensor: Q_value, 2-D tensor of shape (n, num_actions)\n",
        "        \"\"\"\n",
        "        return self.layers(x)"
      ]
    },
    {
      "cell_type": "markdown",
      "metadata": {
        "cell_id": "00006-1abd5fa6-2103-4614-aa46-6830fa62ed91",
        "deepnote_cell_height": 221.60000610351562,
        "deepnote_cell_type": "markdown",
        "id": "QRbxyF7hKKSm"
      },
      "source": [
        "## DQN Agent\n",
        "\n",
        "This class contains the main steps of the Deep Q-learnig algorithm.\n",
        "\n",
        "Please complete the impletation by filling in two missing parts:\n",
        "- TODO 1: Add a target network (under the ```__init__``` function)\n",
        "- TODO 2: Compute the loss (under the ```optimize``` function)\n"
      ]
    },
    {
      "cell_type": "code",
      "execution_count": 23,
      "metadata": {
        "cell_id": "00007-795f1159-7ef9-4758-bd61-0ddccbf633eb",
        "deepnote_cell_height": 1971,
        "deepnote_cell_type": "code",
        "deepnote_to_be_reexecuted": false,
        "execution_millis": 0,
        "execution_start": 1663344775514,
        "id": "FnXUTaVwKKSn",
        "source_hash": "67416e4d"
      },
      "outputs": [],
      "source": [
        "class DQNAgent(object):\n",
        "    \"\"\"DQN Agent\n",
        "    This class contains the main steps of the DQN algorithm\n",
        "    \n",
        "    Attributes:\n",
        "    action_value_net (DQN): Function approximator for our action-value function (predictor)\n",
        "    target_net (DQN): Function approximator for our target action-value function\n",
        "    loss_fn (MSELoss): Criterion that measures the mean squared error (squared L2 norm) \n",
        "                       between each element of the predicted and target q-values.\n",
        "    optimizer (Adam): Stochastic gradient optimize\n",
        "    gamma (float): Discount factor\n",
        "    \"\"\"\n",
        "    \n",
        "    def __init__(self, input_dim=8, output_dim=4, \n",
        "                 hidden_dim_1=32, hidden_dim_2=32, gamma=0.99, lr=0.0001):\n",
        "        \"\"\"\n",
        "        Define instance of DQNAgent\n",
        "        Args:\n",
        "        input_dim (int): `state` dimension.\n",
        "        output_dim (int): Number of actions.\n",
        "        hidden_dim (int): Hidden dimension in fully connected layer\n",
        "        \"\"\"\n",
        "        self.action_value_net = DQN(input_dim, output_dim, hidden_dim_1, hidden_dim_2).to(device)\n",
        "                \n",
        "        #TODO 1: Add a target network. Make sure both networks start with same parameters ----------\n",
        "        self.target_net = DQN(input_dim, output_dim, hidden_dim_1, hidden_dim_2).to(device)\n",
        "        # self.target_net =\n",
        "        #ENDTODO -----------------------------------------------------------------------------------\n",
        "                        \n",
        "        self.loss_fn = nn.MSELoss()\n",
        "        self.optimizer = optim.Adam(self.action_value_net.parameters(), lr=lr)\n",
        "                \n",
        "        self.gamma = torch.tensor(gamma).float().to(device)\n",
        "        \n",
        "    def obtain_action(self, state, action_space_dim, epsilon):\n",
        "        \"\"\"\n",
        "        Select next action using epsilon-greedy policy\n",
        "        Args:\n",
        "        epsilon (float): Threshold used to decide whether a random or maximum-value action \n",
        "                         should be taken next\n",
        "         Returns:\n",
        "            int: action index\n",
        "        \"\"\"        \n",
        "        with torch.no_grad():\n",
        "            cur_q = self.action_value_net(torch.from_numpy(state).float().to(device))\n",
        "        q_value, action = torch.max(cur_q, axis=0)\n",
        "        action = action if torch.rand(1,).item() > epsilon else torch.randint(0, action_space_dim, (1,)).item()\n",
        "        action = torch.tensor([action]).to(device)\n",
        "        return action\n",
        "    \n",
        "    def get_next_q(self, state):\n",
        "        \"\"\"Returns Q_value for maximum valued action at each state s\n",
        "        Args:\n",
        "            x (torch.Tensor): `State` 2-D tensor of shape (n, num_inputs)\n",
        "        Returns:\n",
        "            torch.Tensor: Q_value, 1 tensor of shape (n)\n",
        "        \"\"\"\n",
        "        with torch.no_grad():\n",
        "            next_q = self.target_net(state)\n",
        "        q, _ = torch.max(next_q, axis=1)\n",
        "        return q\n",
        "    \n",
        "    def optimize(self, batch):\n",
        "        \"\"\"Computes `loss` and backpropagation\n",
        "        Args:\n",
        "            batch: List[Transition]: Minibatch of `Transition`\n",
        "        Returns:\n",
        "            float: loss value\n",
        "        \"\"\"\n",
        "        \n",
        "        state_batch = torch.stack(batch.state)\n",
        "        action_batch = torch.stack(batch.action)\n",
        "        reward_batch = torch.stack(batch.reward)\n",
        "        next_state_batch = torch.stack(batch.next_state)\n",
        "                \n",
        "        # Compute a mask of non-final states and concatenate the batch elements\n",
        "        # (a final state is the one after which the simulation ends)\n",
        "        non_final_mask = torch.tensor(tuple(map(lambda s: s.item() is not True,\n",
        "                                          batch.done)), device=device, dtype=torch.bool)\n",
        "        non_final_next_states = torch.stack([s for i, s in enumerate(batch.next_state)\n",
        "                                            if batch.done[i].item() is not True])\n",
        "\n",
        "        # Compute predicted q-values\n",
        "        predicted_q = self.action_value_net(state_batch).gather(1, action_batch).reshape(1,-1)\n",
        "        \n",
        "        # Compute expected values for non-terminal and terminal states (this is our TD target)\n",
        "        target_q = torch.zeros(len(batch.state), device=device)\n",
        "        target_q[non_final_mask] = self.get_next_q(non_final_next_states)\n",
        "        expected_q = reward_batch.reshape(1,-1)+(self.gamma * target_q)\n",
        "        \n",
        "        #TODO 2: Compute loss ----------------------------------------------------------------------\n",
        "        loss = self.loss_fn(expected_q, predicted_q)\n",
        "        #ENDTODO -----------------------------------------------------------------------------------\n",
        "        \n",
        "        # Use loss to compute gradient and update policy parameters through backpropagation\n",
        "        self.optimizer.zero_grad()\n",
        "        loss.backward(retain_graph=True)\n",
        "        self.optimizer.step()\n",
        "                \n",
        "        return loss.item()\n",
        "    \n",
        "    def transfer_parameters(self):\n",
        "        \"\"\"Transfer parameters from action-value to target network\n",
        "        \"\"\"\n",
        "        self.target_net.load_state_dict(self.action_value_net.state_dict())\n",
        "        self.target_net.eval()"
      ]
    },
    {
      "cell_type": "markdown",
      "metadata": {
        "cell_id": "00008-9fec23a6-4fe6-4ec6-b07f-788ce6c07533",
        "deepnote_cell_height": 181.60000610351562,
        "deepnote_cell_type": "markdown",
        "id": "Sm7CiAbZKKSp"
      },
      "source": [
        "### Running Parameters\n",
        "\n",
        "The parameter ``freq_sync`` defines how often parameters are transferred between networks. Here for every 10 episodes we copy the parameters over to the target network.\n",
        "\n",
        "Note that here we are controlling the training duration by the number of episodes, instead of using the number of frames as in DQN. This is why the epsilon_decay is dropped."
      ]
    },
    {
      "cell_type": "code",
      "execution_count": 24,
      "metadata": {
        "cell_id": "00009-77ec7db8-e067-4ba8-a5d1-67e75dc59fe8",
        "colab": {
          "base_uri": "https://localhost:8080/",
          "height": 296
        },
        "deepnote_cell_height": 897,
        "deepnote_cell_type": "code",
        "deepnote_output_heights": [
          20,
          263
        ],
        "deepnote_to_be_reexecuted": false,
        "execution_millis": 315,
        "execution_start": 1663344775515,
        "id": "HqjI8nAxKKSr",
        "outputId": "25228824-073b-4de0-8e84-49bdb58d35af",
        "source_hash": "603e097e"
      },
      "outputs": [
        {
          "data": {
            "text/plain": [
              "Text(0, 0.5, 'Epsilon')"
            ]
          },
          "execution_count": 24,
          "metadata": {},
          "output_type": "execute_result"
        },
        {
          "data": {
            "image/png": "[encoded data removed]",
            "text/plain": [
              "<Figure size 288x288 with 1 Axes>"
            ]
          },
          "metadata": {
            "needs_background": "light"
          },
          "output_type": "display_data"
        }
      ],
      "source": [
        "# Define running hyper-parameters and epsilon training sequence\n",
        "# Feel free to change the parameters\n",
        "memory_capacity = 200000\n",
        "# batch_size = 64\n",
        "batch_size = 64\n",
        "# num_episodes = 100\n",
        "num_episodes = 1500\n",
        "epsilon_start = 1.0\n",
        "epsilon_end = 0.01\n",
        "epsilon_decay = 1\n",
        "gamma = 1\n",
        "lr = 5e-4\n",
        "hidden_dim_1 = 64\n",
        "hidden_dim_2 = 64\n",
        "freq_sync = 10\n",
        "seed_value = 42\n",
        "\n",
        "epsilon_by_step = lambda ep_idx: epsilon_end + (epsilon_start - epsilon_end) * math.exp(-1. * ep_idx / epsilon_decay)\n",
        "\n",
        "# Plotting out epsilon over episodes that should match what you expect\n",
        "fig, ax = plt.subplots(figsize=(4, 4))\n",
        "ax.plot([epsilon_by_step(i) for i in range(num_episodes)])\n",
        "ax.set_xlabel(\"Num. episodes\")\n",
        "ax.set_ylabel(\"Epsilon\")\n",
        "\n",
        "#TODO: Please Ignore this ---------------------------------------------------------------\n",
        "\n",
        "#ENDTODO --------------------------------------------------------------------------------"
      ]
    },
    {
      "cell_type": "markdown",
      "metadata": {
        "cell_id": "00010-9b5d267d-9ea0-4eda-a0fc-6a8042151ebe",
        "deepnote_cell_height": 122.80000305175781,
        "deepnote_cell_type": "markdown",
        "id": "qqAY4DGjKKSz"
      },
      "source": [
        "### Main Loop and Replay Buffer Control\n",
        "\n",
        "This is the main loop of our DQN implementation. Here we generate the samples added to the replay memory and train the agent using a batch sampled for the replay memory"
      ]
    },
    {
      "cell_type": "code",
      "execution_count": 25,
      "metadata": {
        "cell_id": "00011-e21e6c74-4a15-448b-90c8-bed3857d52d2",
        "colab": {
          "base_uri": "https://localhost:8080/",
          "height": 382
        },
        "deepnote_cell_height": 1495.199951171875,
        "deepnote_cell_type": "code",
        "deepnote_output_heights": [
          349
        ],
        "deepnote_to_be_reexecuted": false,
        "execution_millis": 551359,
        "execution_start": 1663344775885,
        "id": "DC1wTvEtKKS0",
        "outputId": "97eb245a-ed60-4eac-a6b2-68e90c0b0d26",
        "source_hash": "bb7735b5"
      },
      "outputs": [
        {
          "data": {
            "image/png": "[encoded data removed]",
            "text/plain": [
              "<Figure size 1440x360 with 2 Axes>"
            ]
          },
          "metadata": {
            "needs_background": "light"
          },
          "output_type": "display_data"
        },
        {
          "name": "stderr",
          "output_type": "stream",
          "text": [
            "100%|██████████| 1500/1500 [56:18<00:00,  2.25s/it]\n"
          ]
        }
      ],
      "source": [
        "losses_list, rewards_list, episode_len_list = [], [], []\n",
        "list_epsilon = []\n",
        "replay_buffer = ReplayMemory(memory_capacity)\n",
        "\n",
        "env = gym.make(\"LunarLander-v2\")\n",
        "set_seed(env, seed_value)\n",
        "n_actions = env.action_space.n\n",
        "dim_state = env.observation_space.shape[0]\n",
        "\n",
        "agent = DQNAgent(input_dim=dim_state, \n",
        "                 output_dim=n_actions, \n",
        "                 hidden_dim_1=hidden_dim_1, \n",
        "                 hidden_dim_2=hidden_dim_2, \n",
        "                 gamma=gamma, lr=lr)\n",
        "\n",
        "cur_epsilon = epsilon_start\n",
        "\n",
        "\n",
        "for i_episode in tqdm(range(num_episodes)):\n",
        "\n",
        "    state, is_finished, ep_len, losses, rewards = env.reset()[0], False, 0, 0, 0\n",
        "\n",
        "    cur_epsilon = epsilon_by_step(i_episode+1)\n",
        "    list_epsilon += [cur_epsilon]\n",
        "    while not is_finished:\n",
        "        ep_len += 1\n",
        "        action = agent.obtain_action(state, n_actions, cur_epsilon)\n",
        "        next_state, reward, done, truncated, _ = env.step(action.item())\n",
        "        is_finished = done or truncated\n",
        "        rewards += reward\n",
        "\n",
        "        t_s = torch.tensor(state).float().to(device)\n",
        "        t_r = torch.tensor([reward]).float().to(device)\n",
        "        t_ns = torch.tensor(next_state).float().to(device)\n",
        "        t_a = action.to(device)\n",
        "        t_done = torch.tensor([is_finished]).bool().to(device)\n",
        "\n",
        "        replay_buffer.push(t_s, t_a, t_ns, t_r, t_done)\n",
        "        state = next_state\n",
        "\n",
        "        if len(replay_buffer) > batch_size:\n",
        "            transitions = replay_buffer.sample(batch_size)\n",
        "            batch = Transition(*zip(*transitions))\n",
        "            loss = agent.optimize(batch)\n",
        "            losses += loss\n",
        "\n",
        "    losses_list.append(losses / ep_len)\n",
        "    rewards_list.append(rewards)\n",
        "    episode_len_list.append(ep_len)\n",
        "\n",
        "    # Add rule that call transfer_parameters() every freq_sync episodes\n",
        "    if i_episode % freq_sync == 0:\n",
        "        agent.transfer_parameters()\n",
        "\n",
        "    # Every 10 episodes we plot the approximator's progress and performance\n",
        "    if i_episode % 10 == 0:\n",
        "        plot_ep(i_episode, rewards_list, losses_list)"
      ]
    },
    {
      "cell_type": "code",
      "execution_count": 26,
      "metadata": {
        "cell_id": "00012-a43f8914-7f4b-4af2-a53d-81245fb26a86",
        "deepnote_cell_height": 130,
        "deepnote_cell_type": "code",
        "deepnote_to_be_reexecuted": true,
        "execution_millis": 74,
        "execution_start": 1663126268236,
        "id": "HxuWmeO0KKS1",
        "source_hash": "4941491b"
      },
      "outputs": [],
      "source": [
        "# save the trained network, this is what you will submit along with your ipynb\n",
        "file_name = 'Practical08_Exercise.pt' # replace 12345 with your student ID\n",
        "agent.seed = seed_value\n",
        "torch.save(agent, file_name)"
      ]
    },
    {
      "cell_type": "markdown",
      "metadata": {
        "cell_id": "00013-8171d2a5-9b5b-4888-b885-c915c4a1df28",
        "deepnote_cell_height": 845.4000244140625,
        "deepnote_cell_type": "markdown",
        "id": "BSjmBfDTKKS1"
      },
      "source": [
        "# Grading\n",
        "\n",
        "You will be graded based on the performance of your network. Your solution will be executed for a total of 100 trials and the average return will be used to determine your grade. The grading scale is:\n",
        "\n",
        "| Avg. Return | Marks       |\n",
        "| ----------- | ----------- |\n",
        "| < 0         | 1  pt       |\n",
        "| [0,50)      | 2  pts      |\n",
        "| [50, 100)   | 3  pts      |\n",
        "| [100, 150)  | 4  pts      |\n",
        "| [150, 200)  | 5  pts      |\n",
        "| ≥ 200       | 6  pts      |\n",
        "\n",
        "Here is the exact grading procedure: \n",
        "- We will grade the performance of the `.pt` file, so we will run `Practical08_Exercise_Grading.ipynb` notebook in the grader (not the `.ipynb` you submitted), obtain `mean_return`, and just compare its value against the table above, feel free to run `Practical08_Exercise_Grading.ipynb` to test your `.pt` file.\n",
        "- We will NOT run your `.ipynb`, instead, we will inspect it manually to see if there is some malicious behaviour!\n",
        "\n",
        "# For your submission:\n",
        "- Submit both a copy of THIS notebook and the trained network following the naming convention (*StudentID_Practical08.ipynb* and *Practical08_Exercise.pt*)\n",
        "- You can tune the hyper-parameters if needed or modify the architecture of the DQN approximator (don't change the name of the class).\n",
        "- If you make changes to the architecture if the `DQN` class, please only make changes inside the `nn.Sequential` (if you wish to) because that will get saved in the `.pt` file properly. If you add more things elsewhere in the `DQN` class, there is no guarantee that the grading notebook (`Practical08_Exercise_Grading.ipynb`) will import `.pt` properly and your network might perform differently than what you expected. \n",
        "- Also note that different machines and setup might have different randomness in it too, there is no guarantee that the result you get is what you will get on my end, the only way to make sure that I will get the same number is using Deepnote or Binder for cloud and Docker for local install to check your `.pt` file. Meaning you can train the agent in whatever platform you wish to, but you should check your trained `.pt` in Deepnote or Binder for cloud and Docker for local install"
      ]
    },
    {
      "cell_type": "markdown",
      "metadata": {
        "cell_id": "3e85f39347a94eacb111f9ca2ee40ae5",
        "deepnote_cell_height": 46,
        "deepnote_cell_type": "markdown",
        "id": "5frsulu7KKS1",
        "tags": []
      },
      "source": []
    },
    {
      "cell_type": "markdown",
      "metadata": {
        "cell_id": "3bd2c853da7243c2bd2f6ffefc612d4c",
        "deepnote_cell_height": 46,
        "deepnote_cell_type": "markdown",
        "id": "aOZeWMRQKKS1",
        "tags": []
      },
      "source": []
    },
    {
      "cell_type": "markdown",
      "metadata": {
        "created_in_deepnote_cell": true,
        "deepnote_cell_type": "markdown",
        "id": "ogoQjCZwKKS1",
        "tags": []
      },
      "source": [
        "<a style='text-decoration:none;line-height:16px;display:flex;color:#5B5B62;padding:10px;justify-content:end;' href='https://deepnote.com?utm_source=created-in-deepnote-cell&projectId=d30c9d78-b335-4e3c-b9dd-5dae33556494' target=\"_blank\">\n",
        "<img alt='Created in deepnote.com' style='display:inline;max-height:16px;margin:0px;margin-right:7.5px;' src='data:image/svg+xml;base64,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' > </img>\n",
        "Created in <span style='font-weight:600;margin-left:4px;'>Deepnote</span></a>"
      ]
    }
  ],
  "metadata": {
    "colab": {
      "collapsed_sections": [],
      "provenance": []
    },
    "deepnote": {},
    "deepnote_execution_queue": [
      {
        "cellId": "00011-e21e6c74-4a15-448b-90c8-bed3857d52d2",
        "msgId": "d5e6b8d6-3c33-4ff0-b8eb-91dfaf4b094c",
        "sessionId": "ccd9acef-c382-4a78-8406-cdafd1a7a8ed"
      },
      {
        "cellId": "00012-a43f8914-7f4b-4af2-a53d-81245fb26a86",
        "msgId": "8b1460bf-8fbd-438a-a3e8-48e0da605254",
        "sessionId": "ccd9acef-c382-4a78-8406-cdafd1a7a8ed"
      }
    ],
    "deepnote_notebook_id": "c2646283-a9e8-45e5-b54a-defba367120e",
    "deepnote_persisted_session": {
      "createdAt": "2022-09-14T04:00:22.487Z"
    },
    "kernelspec": {
      "display_name": "Python 3.10.5 64-bit",
      "language": "python",
      "name": "python3"
    },
    "language_info": {
      "codemirror_mode": {
        "name": "ipython",
        "version": 3
      },
      "file_extension": ".py",
      "mimetype": "text/x-python",
      "name": "python",
      "nbconvert_exporter": "python",
      "pygments_lexer": "ipython3",
      "version": "3.10.5"
    },
    "vscode": {
      "interpreter": {
        "hash": "502f2d0f7a75f112fb5ef718cdc6fd04625108509aac45e6a41dea55b7c6f50f"
      }
    }
  },
  "nbformat": 4,
  "nbformat_minor": 0
}
